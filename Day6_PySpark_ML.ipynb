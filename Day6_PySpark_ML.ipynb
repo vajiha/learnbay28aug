{
  "nbformat": 4,
  "nbformat_minor": 0,
  "metadata": {
    "colab": {
      "provenance": [],
      "authorship_tag": "ABX9TyOYzzPLpi9vWr5D3OWxDj8F",
      "include_colab_link": true
    },
    "kernelspec": {
      "name": "python3",
      "display_name": "Python 3"
    },
    "language_info": {
      "name": "python"
    }
  },
  "cells": [
    {
      "cell_type": "markdown",
      "metadata": {
        "id": "view-in-github",
        "colab_type": "text"
      },
      "source": [
        "<a href=\"https://colab.research.google.com/github/vajiha/learnbay28aug/blob/master/Day6_PySpark_ML.ipynb\" target=\"_parent\"><img src=\"https://colab.research.google.com/assets/colab-badge.svg\" alt=\"Open In Colab\"/></a>"
      ]
    },
    {
      "cell_type": "code",
      "execution_count": 1,
      "metadata": {
        "colab": {
          "base_uri": "https://localhost:8080/"
        },
        "id": "rM02yCHkMrgu",
        "outputId": "780ed369-14c4-4049-e5b9-4be3ce141e6e"
      },
      "outputs": [
        {
          "output_type": "stream",
          "name": "stdout",
          "text": [
            "Requirement already satisfied: pyspark in /usr/local/lib/python3.11/dist-packages (3.5.4)\n",
            "Requirement already satisfied: py4j in /usr/local/lib/python3.11/dist-packages (0.10.9.7)\n"
          ]
        }
      ],
      "source": [
        "#importing spark context object manually\n",
        "!pip install pyspark py4j\n",
        "from pyspark.sql import SparkSession\n",
        "spark = SparkSession.builder.appName(\"spark_sql_learning\").getOrCreate()"
      ]
    },
    {
      "cell_type": "code",
      "source": [
        "#loading a csv file into a dataframe for applyign machine learning algorithms.\n",
        "df = spark.read.csv(\"/content/sample_data/50_Startups_h4s1of.csv\",header=True,inferSchema=True)"
      ],
      "metadata": {
        "id": "PhG0OyNLM6V8"
      },
      "execution_count": 2,
      "outputs": []
    },
    {
      "cell_type": "code",
      "source": [
        "df.show()"
      ],
      "metadata": {
        "colab": {
          "base_uri": "https://localhost:8080/"
        },
        "id": "gSproqRCNRel",
        "outputId": "851fa830-b394-43f7-86e9-2c3ba7fd3fca"
      },
      "execution_count": 3,
      "outputs": [
        {
          "output_type": "stream",
          "name": "stdout",
          "text": [
            "+---------+--------------+---------------+----------+---------+\n",
            "|R&D Spend|Administration|Marketing Spend|     State|   Profit|\n",
            "+---------+--------------+---------------+----------+---------+\n",
            "| 165349.2|      136897.8|       471784.1|  New York|192261.83|\n",
            "| 162597.7|     151377.59|      443898.53|California|191792.06|\n",
            "|153441.51|     101145.55|      407934.54|   Florida|191050.39|\n",
            "|144372.41|     118671.85|      383199.62|  New York|182901.99|\n",
            "|142107.34|      91391.77|      366168.42|   Florida|166187.94|\n",
            "| 131876.9|      99814.71|      362861.36|  New York|156991.12|\n",
            "|134615.46|     147198.87|      127716.82|California|156122.51|\n",
            "|130298.13|     145530.06|      323876.68|   Florida| 155752.6|\n",
            "|120542.52|     148718.95|      311613.29|  New York|152211.77|\n",
            "|123334.88|     108679.17|      304981.62|California|149759.96|\n",
            "|101913.08|     110594.11|      229160.95|   Florida|146121.95|\n",
            "|100671.96|      91790.61|      249744.55|California| 144259.4|\n",
            "| 93863.75|     127320.38|      249839.44|   Florida|141585.52|\n",
            "| 91992.39|     135495.07|      252664.93|California|134307.35|\n",
            "|119943.24|     156547.42|      256512.92|   Florida|132602.65|\n",
            "|114523.61|     122616.84|      261776.23|  New York|129917.04|\n",
            "| 78013.11|     121597.55|      264346.06|California|126992.93|\n",
            "| 94657.16|     145077.58|      282574.31|  New York|125370.37|\n",
            "| 91749.16|     114175.79|      294919.57|   Florida| 124266.9|\n",
            "|  86419.7|     153514.11|            0.0|  New York|122776.86|\n",
            "+---------+--------------+---------------+----------+---------+\n",
            "only showing top 20 rows\n",
            "\n"
          ]
        }
      ]
    },
    {
      "cell_type": "code",
      "source": [
        "df.columns"
      ],
      "metadata": {
        "colab": {
          "base_uri": "https://localhost:8080/"
        },
        "id": "isPaCQPsNYD2",
        "outputId": "0a92bcd1-bf73-4375-94af-53b9845bfb12"
      },
      "execution_count": 4,
      "outputs": [
        {
          "output_type": "execute_result",
          "data": {
            "text/plain": [
              "['R&D Spend', 'Administration', 'Marketing Spend', 'State', 'Profit']"
            ]
          },
          "metadata": {},
          "execution_count": 4
        }
      ]
    },
    {
      "cell_type": "code",
      "source": [
        "#string indexing\n",
        "#converts string into number\n",
        "\n",
        "from pyspark.ml.feature import StringIndexer\n",
        "indexer = StringIndexer(inputCol=\"State\",outputCol=\"State_Indexed\")\n",
        "final_df = indexer.fit(df).transform(df)\n",
        "final_df.show()"
      ],
      "metadata": {
        "colab": {
          "base_uri": "https://localhost:8080/"
        },
        "id": "LPiV7idFNdJd",
        "outputId": "0305d227-ce26-4ec8-b9e8-49fb2bae5ea0"
      },
      "execution_count": 5,
      "outputs": [
        {
          "output_type": "stream",
          "name": "stdout",
          "text": [
            "+---------+--------------+---------------+----------+---------+-------------+\n",
            "|R&D Spend|Administration|Marketing Spend|     State|   Profit|State_Indexed|\n",
            "+---------+--------------+---------------+----------+---------+-------------+\n",
            "| 165349.2|      136897.8|       471784.1|  New York|192261.83|          1.0|\n",
            "| 162597.7|     151377.59|      443898.53|California|191792.06|          0.0|\n",
            "|153441.51|     101145.55|      407934.54|   Florida|191050.39|          2.0|\n",
            "|144372.41|     118671.85|      383199.62|  New York|182901.99|          1.0|\n",
            "|142107.34|      91391.77|      366168.42|   Florida|166187.94|          2.0|\n",
            "| 131876.9|      99814.71|      362861.36|  New York|156991.12|          1.0|\n",
            "|134615.46|     147198.87|      127716.82|California|156122.51|          0.0|\n",
            "|130298.13|     145530.06|      323876.68|   Florida| 155752.6|          2.0|\n",
            "|120542.52|     148718.95|      311613.29|  New York|152211.77|          1.0|\n",
            "|123334.88|     108679.17|      304981.62|California|149759.96|          0.0|\n",
            "|101913.08|     110594.11|      229160.95|   Florida|146121.95|          2.0|\n",
            "|100671.96|      91790.61|      249744.55|California| 144259.4|          0.0|\n",
            "| 93863.75|     127320.38|      249839.44|   Florida|141585.52|          2.0|\n",
            "| 91992.39|     135495.07|      252664.93|California|134307.35|          0.0|\n",
            "|119943.24|     156547.42|      256512.92|   Florida|132602.65|          2.0|\n",
            "|114523.61|     122616.84|      261776.23|  New York|129917.04|          1.0|\n",
            "| 78013.11|     121597.55|      264346.06|California|126992.93|          0.0|\n",
            "| 94657.16|     145077.58|      282574.31|  New York|125370.37|          1.0|\n",
            "| 91749.16|     114175.79|      294919.57|   Florida| 124266.9|          2.0|\n",
            "|  86419.7|     153514.11|            0.0|  New York|122776.86|          1.0|\n",
            "+---------+--------------+---------------+----------+---------+-------------+\n",
            "only showing top 20 rows\n",
            "\n"
          ]
        }
      ]
    },
    {
      "cell_type": "code",
      "source": [
        "#building the vectors\n",
        "\n",
        "from pyspark.ml.linalg import Vectors\n",
        "from pyspark.ml.feature import VectorAssembler\n",
        "\n",
        "assembler = VectorAssembler(inputCols=[\"R&D Spend\",\"Administration\",\"Marketing Spend\",\"State_Indexed\"],\n",
        "                            outputCol=\"features\")\n",
        "final_data_df = assembler.transform(final_df)\n",
        "final_data_df.show(truncate=False)\n"
      ],
      "metadata": {
        "colab": {
          "base_uri": "https://localhost:8080/"
        },
        "id": "bm8sfxHrORo1",
        "outputId": "24e620f2-3890-44df-b605-a931fdb25c45"
      },
      "execution_count": 7,
      "outputs": [
        {
          "output_type": "stream",
          "name": "stdout",
          "text": [
            "+---------+--------------+---------------+----------+---------+-------------+-----------------------------------+\n",
            "|R&D Spend|Administration|Marketing Spend|State     |Profit   |State_Indexed|features                           |\n",
            "+---------+--------------+---------------+----------+---------+-------------+-----------------------------------+\n",
            "|165349.2 |136897.8      |471784.1       |New York  |192261.83|1.0          |[165349.2,136897.8,471784.1,1.0]   |\n",
            "|162597.7 |151377.59     |443898.53      |California|191792.06|0.0          |[162597.7,151377.59,443898.53,0.0] |\n",
            "|153441.51|101145.55     |407934.54      |Florida   |191050.39|2.0          |[153441.51,101145.55,407934.54,2.0]|\n",
            "|144372.41|118671.85     |383199.62      |New York  |182901.99|1.0          |[144372.41,118671.85,383199.62,1.0]|\n",
            "|142107.34|91391.77      |366168.42      |Florida   |166187.94|2.0          |[142107.34,91391.77,366168.42,2.0] |\n",
            "|131876.9 |99814.71      |362861.36      |New York  |156991.12|1.0          |[131876.9,99814.71,362861.36,1.0]  |\n",
            "|134615.46|147198.87     |127716.82      |California|156122.51|0.0          |[134615.46,147198.87,127716.82,0.0]|\n",
            "|130298.13|145530.06     |323876.68      |Florida   |155752.6 |2.0          |[130298.13,145530.06,323876.68,2.0]|\n",
            "|120542.52|148718.95     |311613.29      |New York  |152211.77|1.0          |[120542.52,148718.95,311613.29,1.0]|\n",
            "|123334.88|108679.17     |304981.62      |California|149759.96|0.0          |[123334.88,108679.17,304981.62,0.0]|\n",
            "|101913.08|110594.11     |229160.95      |Florida   |146121.95|2.0          |[101913.08,110594.11,229160.95,2.0]|\n",
            "|100671.96|91790.61      |249744.55      |California|144259.4 |0.0          |[100671.96,91790.61,249744.55,0.0] |\n",
            "|93863.75 |127320.38     |249839.44      |Florida   |141585.52|2.0          |[93863.75,127320.38,249839.44,2.0] |\n",
            "|91992.39 |135495.07     |252664.93      |California|134307.35|0.0          |[91992.39,135495.07,252664.93,0.0] |\n",
            "|119943.24|156547.42     |256512.92      |Florida   |132602.65|2.0          |[119943.24,156547.42,256512.92,2.0]|\n",
            "|114523.61|122616.84     |261776.23      |New York  |129917.04|1.0          |[114523.61,122616.84,261776.23,1.0]|\n",
            "|78013.11 |121597.55     |264346.06      |California|126992.93|0.0          |[78013.11,121597.55,264346.06,0.0] |\n",
            "|94657.16 |145077.58     |282574.31      |New York  |125370.37|1.0          |[94657.16,145077.58,282574.31,1.0] |\n",
            "|91749.16 |114175.79     |294919.57      |Florida   |124266.9 |2.0          |[91749.16,114175.79,294919.57,2.0] |\n",
            "|86419.7  |153514.11     |0.0            |New York  |122776.86|1.0          |[86419.7,153514.11,0.0,1.0]        |\n",
            "+---------+--------------+---------------+----------+---------+-------------+-----------------------------------+\n",
            "only showing top 20 rows\n",
            "\n"
          ]
        }
      ]
    },
    {
      "cell_type": "code",
      "source": [
        "final = final_data_df.select(\"features\",\"Profit\")\n",
        "final.show(truncate=False)"
      ],
      "metadata": {
        "colab": {
          "base_uri": "https://localhost:8080/"
        },
        "id": "GvxsirEsPYJd",
        "outputId": "abb5c735-89ff-41af-ead1-221589410e7b"
      },
      "execution_count": 8,
      "outputs": [
        {
          "output_type": "stream",
          "name": "stdout",
          "text": [
            "+---------+-----------------------------------+\n",
            "|Profit   |features                           |\n",
            "+---------+-----------------------------------+\n",
            "|192261.83|[165349.2,136897.8,471784.1,1.0]   |\n",
            "|191792.06|[162597.7,151377.59,443898.53,0.0] |\n",
            "|191050.39|[153441.51,101145.55,407934.54,2.0]|\n",
            "|182901.99|[144372.41,118671.85,383199.62,1.0]|\n",
            "|166187.94|[142107.34,91391.77,366168.42,2.0] |\n",
            "|156991.12|[131876.9,99814.71,362861.36,1.0]  |\n",
            "|156122.51|[134615.46,147198.87,127716.82,0.0]|\n",
            "|155752.6 |[130298.13,145530.06,323876.68,2.0]|\n",
            "|152211.77|[120542.52,148718.95,311613.29,1.0]|\n",
            "|149759.96|[123334.88,108679.17,304981.62,0.0]|\n",
            "|146121.95|[101913.08,110594.11,229160.95,2.0]|\n",
            "|144259.4 |[100671.96,91790.61,249744.55,0.0] |\n",
            "|141585.52|[93863.75,127320.38,249839.44,2.0] |\n",
            "|134307.35|[91992.39,135495.07,252664.93,0.0] |\n",
            "|132602.65|[119943.24,156547.42,256512.92,2.0]|\n",
            "|129917.04|[114523.61,122616.84,261776.23,1.0]|\n",
            "|126992.93|[78013.11,121597.55,264346.06,0.0] |\n",
            "|125370.37|[94657.16,145077.58,282574.31,1.0] |\n",
            "|124266.9 |[91749.16,114175.79,294919.57,2.0] |\n",
            "|122776.86|[86419.7,153514.11,0.0,1.0]        |\n",
            "+---------+-----------------------------------+\n",
            "only showing top 20 rows\n",
            "\n"
          ]
        }
      ]
    },
    {
      "cell_type": "code",
      "source": [
        "#split the data into train and test\n",
        "\n",
        "train,test = final.randomSplit([0.7,0.3])\n",
        "train.show()"
      ],
      "metadata": {
        "colab": {
          "base_uri": "https://localhost:8080/"
        },
        "id": "t3eT3zqFQEfw",
        "outputId": "bad2b38a-3568-4bad-96cd-3e1a38d2bc04"
      },
      "execution_count": 9,
      "outputs": [
        {
          "output_type": "stream",
          "name": "stdout",
          "text": [
            "+---------+--------------------+\n",
            "|   Profit|            features|\n",
            "+---------+--------------------+\n",
            "|  14681.4|[0.0,116983.8,451...|\n",
            "| 35673.41|[542.05,51743.15,...|\n",
            "| 64926.08|[1000.23,124153.0...|\n",
            "| 65200.33|[22177.74,154806....|\n",
            "| 69758.98|[15505.73,127382....|\n",
            "| 71498.49|[23640.93,96189.6...|\n",
            "| 77798.83|[27892.92,84710.7...|\n",
            "| 81005.76|[38558.51,82982.0...|\n",
            "| 81229.06|[20229.59,65947.9...|\n",
            "| 89949.14|[44069.95,51283.1...|\n",
            "| 96479.51|[46014.02,85047.4...|\n",
            "|  96712.8|[46426.07,157693....|\n",
            "| 96778.92|[55493.95,103057....|\n",
            "|101004.64|[65605.48,153032....|\n",
            "|103282.38|[66051.52,182645....|\n",
            "|105008.31|[72107.6,127864.5...|\n",
            "|105733.54|[75328.87,144135....|\n",
            "|108733.99|[67532.53,105751....|\n",
            "|110352.25|[73994.56,122782....|\n",
            "|111313.02|[78389.47,153773....|\n",
            "+---------+--------------------+\n",
            "only showing top 20 rows\n",
            "\n"
          ]
        }
      ]
    },
    {
      "cell_type": "code",
      "source": [
        "#building the model\n",
        "\n",
        "from pyspark.ml.regression import LinearRegression\n",
        "op_lr = LinearRegression(featuresCol=\"features\",labelCol=\"Profit\")\n",
        "trained_model = op_lr.fit(train)"
      ],
      "metadata": {
        "id": "C6HaOe6JPpGe"
      },
      "execution_count": 10,
      "outputs": []
    },
    {
      "cell_type": "code",
      "source": [
        "#evaluating the model\n",
        "#apply the 30% of data in the model built\n",
        "results = trained_model.evaluate(test)"
      ],
      "metadata": {
        "id": "yWLu0a9yQZQ4"
      },
      "execution_count": 11,
      "outputs": []
    },
    {
      "cell_type": "code",
      "source": [
        "print(results.r2)"
      ],
      "metadata": {
        "colab": {
          "base_uri": "https://localhost:8080/"
        },
        "id": "mAEQc4-GQk69",
        "outputId": "dc3efdb2-0344-45ae-975f-f6b944d08a0f"
      },
      "execution_count": 12,
      "outputs": [
        {
          "output_type": "stream",
          "name": "stdout",
          "text": [
            "0.9751575659678717\n"
          ]
        }
      ]
    }
  ]
}